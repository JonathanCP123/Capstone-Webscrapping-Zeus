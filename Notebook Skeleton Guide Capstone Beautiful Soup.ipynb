{
 "cells": [
  {
   "cell_type": "markdown",
   "metadata": {},
   "source": [
    "# Capstone Webscraping using BeautifulSoup\n",
    "\n",
    "This notebook contains guidances & tasks on the data processing for the application\n",
    "\n",
    "## Background\n",
    "\n",
    "(Please insert the background here )\n",
    "\n",
    "## Requesting the Data and Creating a BeautifulSoup\n",
    "\n",
    "Let's start by requesting the webpage using the `get` method from the `requests` library."
   ]
  },
  {
   "cell_type": "code",
   "execution_count": 76,
   "metadata": {
    "ExecuteTime": {
     "end_time": "2020-01-13T05:12:23.275508Z",
     "start_time": "2020-01-13T05:12:20.009898Z"
    }
   },
   "outputs": [],
   "source": [
    "import requests\n",
    "    \n",
    "url_get = requests.get('https://www.exchange-rates.org/exchange-rate-history/usd-idr')"
   ]
  },
  {
   "cell_type": "markdown",
   "metadata": {},
   "source": [
    "To visualize what exactly you get from the `request.get`, we can use `.content` so see what we exactly get (HTML content), in here i slice it so it won't make our screen full of the html we get from the page. You can delete the slicing if you want to see what we fully get."
   ]
  },
  {
   "cell_type": "code",
   "execution_count": 77,
   "metadata": {
    "ExecuteTime": {
     "end_time": "2020-01-13T05:12:23.290648Z",
     "start_time": "2020-01-13T05:12:23.277650Z"
    }
   },
   "outputs": [
    {
     "data": {
      "text/plain": [
       "b'!DOCTYPE html>\\r\\n<!--[if lt IE 9]>\\r\\n<html class=\"no-js ie8 oldie\" lang=\"en\" xml:lang=\\'en\\'>\\r\\n<![endif]-->\\r\\n<!--[if gt IE 8]><!--><html class=\"no-js\" lang=\"en\" xml:lang=\\'en\\'><!--<![endif]-->\\r\\n<head>\\r\\n<title>US Dollar to Indonesian Rupiah History - USD to IDR Historical Rates</title>\\r\\n<meta http-equiv=\"X-UA-Compatible\" content=\"IE=edge\">\\r\\n<meta name=\"viewport\" content=\"width=device-width, initial-scale=1, maximum-scale=5\">\\r\\n<meta charset=\"utf-8\" /><meta http-equiv=\"Content-Type\" content=\"text/html;'"
      ]
     },
     "execution_count": 77,
     "metadata": {},
     "output_type": "execute_result"
    }
   ],
   "source": [
    "url_get.content[1:500]"
   ]
  },
  {
   "cell_type": "markdown",
   "metadata": {},
   "source": [
    "As we can see we get a very unstructured and complex html, which actually contains the codes needed to show the webpages on your web browser. But we as human still confused what and where we can use that piece of code, so here where we use the beautifulsoup. Beautiful soup class will result a beautifulsoup object. Beautiful Soup transforms a complex HTML document into a complex tree of Python objects. \n",
    "\n",
    "Let's create a BeautifulSoup object and feel free to explore the object here."
   ]
  },
  {
   "cell_type": "code",
   "execution_count": 78,
   "metadata": {
    "ExecuteTime": {
     "end_time": "2020-01-13T05:12:23.808122Z",
     "start_time": "2020-01-13T05:12:23.292610Z"
    }
   },
   "outputs": [],
   "source": [
    "from bs4 import BeautifulSoup \n",
    "\n",
    "soup = BeautifulSoup(url_get.content,\"html.parser\")"
   ]
  },
  {
   "cell_type": "markdown",
   "metadata": {},
   "source": [
    "## Finding the right key to scrap the data & Extracting the right information"
   ]
  },
  {
   "cell_type": "markdown",
   "metadata": {},
   "source": [
    "To obtain the needed information, we should locate the correct key by using the .find() method. We can examine the HTML structure by employing .prettify()."
   ]
  },
  {
   "cell_type": "code",
   "execution_count": 79,
   "metadata": {
    "ExecuteTime": {
     "end_time": "2020-01-13T05:12:23.878904Z",
     "start_time": "2020-01-13T05:12:23.854974Z"
    }
   },
   "outputs": [
    {
     "name": "stdout",
     "output_type": "stream",
     "text": [
      "table border=\"0\" cellpadding=\"0\" cellspacing=\"0\" class=\"history-rates-data\">\n",
      " <thead>\n",
      "  <tr>\n",
      "   <th class=\"ltr-bidi-fix\">\n",
      "    Date\n",
      "   </th>\n",
      "   <th class=\"ltr-bidi-fix\">\n",
      "    US Dollar to Indonesian Rupiah\n",
      "   </th>\n",
      "  </tr>\n",
      " </thead>\n",
      " <tbody>\n",
      "  <tr>\n",
      "   <td>\n",
      "    <a class=\"w\" href=\"/exchange-rate-history/usd-idr-2024-08-30\">\n",
      "     <span class=\"nowrap\">\n",
      "      2024-8-30\n",
      "     </span>\n",
      "    </a>\n",
      "    <a class=\"n\" href=\"/exchange-rate-history/usd-idr-2024-08-30\">\n",
      "     <span class=\"nowrap\">\n",
      "      2024-8-30\n",
      "  \n"
     ]
    }
   ],
   "source": [
    "table = soup.find('table', class_='history-rates-data')\n",
    "print(table.prettify()[1:500])"
   ]
  },
  {
   "cell_type": "markdown",
   "metadata": {},
   "source": [
    "Next, we need to find the row length."
   ]
  },
  {
   "cell_type": "code",
   "execution_count": 80,
   "metadata": {},
   "outputs": [
    {
     "data": {
      "text/plain": [
       "134"
      ]
     },
     "execution_count": 80,
     "metadata": {},
     "output_type": "execute_result"
    }
   ],
   "source": [
    "#Tanggal\n",
    "rows = table.find_all('tr')\n",
    "row_length = len(rows)\n",
    "row_length"
   ]
  },
  {
   "cell_type": "markdown",
   "metadata": {},
   "source": [
    "we are going to carry out web scraping procedure in this section. This entails extracting data from a webpage by accurately identifying and accessing the necessary HTML elements and attributes.\n",
    "\n",
    "You can implement a for loop to execute the scraping task, tailoring it to the HTML structure of the website and the specific information you wish to collect. This approach allows you to iterate through various elements or data points to gather the desired information efficiently."
   ]
  },
  {
   "cell_type": "code",
   "execution_count": 81,
   "metadata": {
    "ExecuteTime": {
     "end_time": "2020-01-13T05:12:24.008256Z",
     "start_time": "2020-01-13T05:12:23.980358Z"
    }
   },
   "outputs": [
    {
     "data": {
      "text/plain": [
       "[('2024-8-30', '1 USD = 15,532 IDR'),\n",
       " ('2024-8-29', '1 USD = 15,466 IDR'),\n",
       " ('2024-8-28', '1 USD = 15,446 IDR'),\n",
       " ('2024-8-27', '1 USD = 15,481 IDR'),\n",
       " ('2024-8-26', '1 USD = 15,483 IDR'),\n",
       " ('2024-8-23', '1 USD = 15,401 IDR'),\n",
       " ('2024-8-22', '1 USD = 15,751 IDR'),\n",
       " ('2024-8-21', '1 USD = 15,508 IDR'),\n",
       " ('2024-8-20', '1 USD = 15,449 IDR'),\n",
       " ('2024-8-19', '1 USD = 15,530 IDR'),\n",
       " (None, None),\n",
       " ('2024-8-16', '1 USD = 15,698 IDR'),\n",
       " ('2024-8-15', '1 USD = 15,773 IDR'),\n",
       " ('2024-8-14', '1 USD = 15,634 IDR'),\n",
       " ('2024-8-13', '1 USD = 15,756 IDR'),\n",
       " ('2024-8-12', '1 USD = 15,948 IDR'),\n",
       " ('2024-8-9', '1 USD = 15,950 IDR'),\n",
       " ('2024-8-8', '1 USD = 15,985 IDR'),\n",
       " ('2024-8-7', '1 USD = 16,030 IDR'),\n",
       " ('2024-8-6', '1 USD = 16,175 IDR'),\n",
       " ('2024-8-5', '1 USD = 16,222 IDR'),\n",
       " ('2024-8-2', '1 USD = 16,176 IDR'),\n",
       " ('2024-8-1', '1 USD = 16,275 IDR'),\n",
       " ('2024-7-31', '1 USD = 16,251 IDR'),\n",
       " ('2024-7-30', '1 USD = 16,326 IDR'),\n",
       " ('2024-7-29', '1 USD = 16,297 IDR'),\n",
       " ('2024-7-26', '1 USD = 16,304 IDR'),\n",
       " ('2024-7-25', '1 USD = 16,332 IDR'),\n",
       " ('2024-7-24', '1 USD = 16,245 IDR'),\n",
       " ('2024-7-23', '1 USD = 16,219 IDR'),\n",
       " ('2024-7-22', '1 USD = 16,218 IDR'),\n",
       " (None, None),\n",
       " ('2024-7-19', '1 USD = 16,213 IDR'),\n",
       " ('2024-7-18', '1 USD = 16,181 IDR'),\n",
       " ('2024-7-17', '1 USD = 16,151 IDR'),\n",
       " ('2024-7-16', '1 USD = 16,166 IDR'),\n",
       " ('2024-7-15', '1 USD = 16,192 IDR'),\n",
       " ('2024-7-12', '1 USD = 16,115 IDR'),\n",
       " ('2024-7-11', '1 USD = 16,104 IDR'),\n",
       " ('2024-7-10', '1 USD = 16,204 IDR'),\n",
       " ('2024-7-9', '1 USD = 16,284 IDR'),\n",
       " ('2024-7-8', '1 USD = 16,285 IDR'),\n",
       " ('2024-7-5', '1 USD = 16,252 IDR'),\n",
       " ('2024-7-4', '1 USD = 16,336 IDR'),\n",
       " ('2024-7-3', '1 USD = 16,346 IDR'),\n",
       " ('2024-7-2', '1 USD = 16,387 IDR'),\n",
       " ('2024-7-1', '1 USD = 16,374 IDR'),\n",
       " ('2024-6-28', '1 USD = 16,350 IDR'),\n",
       " ('2024-6-27', '1 USD = 16,387 IDR'),\n",
       " ('2024-6-26', '1 USD = 16,431 IDR'),\n",
       " ('2024-6-25', '1 USD = 16,399 IDR'),\n",
       " ('2024-6-24', '1 USD = 16,401 IDR'),\n",
       " ('2024-6-21', '1 USD = 16,478 IDR'),\n",
       " ('2024-6-20', '1 USD = 16,490 IDR'),\n",
       " ('2024-6-19', '1 USD = 16,391 IDR'),\n",
       " ('2024-6-18', '1 USD = 16,376 IDR'),\n",
       " ('2024-6-17', '1 USD = 16,467 IDR'),\n",
       " ('2024-6-14', '1 USD = 16,487 IDR'),\n",
       " ('2024-6-13', '1 USD = 16,283 IDR'),\n",
       " ('2024-6-12', '1 USD = 16,246 IDR'),\n",
       " ('2024-6-11', '1 USD = 16,306 IDR'),\n",
       " ('2024-6-10', '1 USD = 16,309 IDR'),\n",
       " ('2024-6-7', '1 USD = 16,277 IDR'),\n",
       " ('2024-6-6', '1 USD = 16,239 IDR'),\n",
       " ('2024-6-5', '1 USD = 16,312 IDR'),\n",
       " ('2024-6-4', '1 USD = 16,282 IDR'),\n",
       " ('2024-6-3', '1 USD = 16,210 IDR'),\n",
       " ('2024-5-31', '1 USD = 16,255 IDR'),\n",
       " ('2024-5-30', '1 USD = 16,233 IDR'),\n",
       " ('2024-5-29', '1 USD = 16,252 IDR'),\n",
       " ('2024-5-28', '1 USD = 16,115 IDR'),\n",
       " ('2024-5-27', '1 USD = 16,073 IDR'),\n",
       " ('2024-5-24', '1 USD = 16,045 IDR'),\n",
       " ('2024-5-23', '1 USD = 16,091 IDR'),\n",
       " ('2024-5-22', '1 USD = 16,041 IDR'),\n",
       " ('2024-5-21', '1 USD = 16,004 IDR'),\n",
       " ('2024-5-20', '1 USD = 16,040 IDR'),\n",
       " ('2024-5-17', '1 USD = 15,965 IDR'),\n",
       " ('2024-5-16', '1 USD = 15,931 IDR'),\n",
       " ('2024-5-15', '1 USD = 15,918 IDR'),\n",
       " ('2024-5-14', '1 USD = 16,103 IDR'),\n",
       " ('2024-5-13', '1 USD = 16,118 IDR'),\n",
       " ('2024-5-10', '1 USD = 16,055 IDR'),\n",
       " ('2024-5-9', '1 USD = 16,027 IDR'),\n",
       " ('2024-5-8', '1 USD = 16,075 IDR'),\n",
       " ('2024-5-7', '1 USD = 16,072 IDR'),\n",
       " ('2024-5-6', '1 USD = 16,042 IDR'),\n",
       " ('2024-5-3', '1 USD = 15,969 IDR'),\n",
       " ('2024-5-2', '1 USD = 16,095 IDR'),\n",
       " ('2024-5-1', '1 USD = 16,194 IDR'),\n",
       " ('2024-4-30', '1 USD = 16,263 IDR'),\n",
       " ('2024-4-29', '1 USD = 16,241 IDR'),\n",
       " ('2024-4-26', '1 USD = 16,241 IDR'),\n",
       " ('2024-4-25', '1 USD = 16,193 IDR'),\n",
       " ('2024-4-24', '1 USD = 16,212 IDR'),\n",
       " ('2024-4-23', '1 USD = 16,143 IDR'),\n",
       " ('2024-4-22', '1 USD = 16,238 IDR'),\n",
       " ('2024-4-19', '1 USD = 16,218 IDR'),\n",
       " ('2024-4-18', '1 USD = 16,210 IDR'),\n",
       " ('2024-4-17', '1 USD = 16,243 IDR'),\n",
       " ('2024-4-16', '1 USD = 16,303 IDR'),\n",
       " ('2024-4-15', '1 USD = 16,083 IDR'),\n",
       " ('2024-4-12', '1 USD = 16,118 IDR'),\n",
       " ('2024-4-11', '1 USD = 16,011 IDR'),\n",
       " ('2024-4-10', '1 USD = 16,001 IDR'),\n",
       " ('2024-4-9', '1 USD = 15,892 IDR'),\n",
       " ('2024-4-8', '1 USD = 15,912 IDR'),\n",
       " ('2024-4-5', '1 USD = 15,888 IDR'),\n",
       " ('2024-4-4', '1 USD = 15,896 IDR'),\n",
       " ('2024-4-3', '1 USD = 15,942 IDR'),\n",
       " ('2024-4-2', '1 USD = 15,952 IDR'),\n",
       " ('2024-4-1', '1 USD = 15,951 IDR'),\n",
       " ('2024-3-29', '1 USD = 15,880 IDR'),\n",
       " ('2024-3-28', '1 USD = 15,891 IDR'),\n",
       " ('2024-3-27', '1 USD = 15,901 IDR'),\n",
       " ('2024-3-26', '1 USD = 15,821 IDR'),\n",
       " ('2024-3-25', '1 USD = 15,784 IDR'),\n",
       " ('2024-3-22', '1 USD = 15,814 IDR'),\n",
       " ('2024-3-21', '1 USD = 15,727 IDR'),\n",
       " ('2024-3-20', '1 USD = 15,697 IDR'),\n",
       " ('2024-3-19', '1 USD = 15,723 IDR'),\n",
       " ('2024-3-18', '1 USD = 15,742 IDR'),\n",
       " ('2024-3-15', '1 USD = 15,647 IDR'),\n",
       " ('2024-3-14', '1 USD = 15,638 IDR'),\n",
       " ('2024-3-13', '1 USD = 15,580 IDR'),\n",
       " ('2024-3-12', '1 USD = 15,560 IDR'),\n",
       " ('2024-3-11', '1 USD = 15,525 IDR'),\n",
       " ('2024-3-8', '1 USD = 15,541 IDR'),\n",
       " ('2024-3-7', '1 USD = 15,627 IDR'),\n",
       " ('2024-3-6', '1 USD = 15,660 IDR'),\n",
       " ('2024-3-5', '1 USD = 15,743 IDR'),\n",
       " ('2024-3-4', '1 USD = 15,760 IDR'),\n",
       " (None, None)]"
      ]
     },
     "execution_count": 81,
     "metadata": {},
     "output_type": "execute_result"
    }
   ],
   "source": [
    "temp = []  # Initiating a list to store the tuples\n",
    "\n",
    "# Loop through each row\n",
    "for i in range(1, row_length):\n",
    "    # Get the row\n",
    "    row = table.find_all('tr')[i]\n",
    "    \n",
    "    # Get Date\n",
    "    date_element = row.find('span', class_='nowrap')\n",
    "    if date_element:\n",
    "        date = date_element.text\n",
    "    else:\n",
    "        date = None  # Handle the case where the date is not found\n",
    "    \n",
    "    # Get Daily Price\n",
    "    price_element = row.find('span', class_='w')\n",
    "    if price_element:\n",
    "        daily_price = price_element.text\n",
    "    else:\n",
    "        daily_price = None  # Handle the case where the price is not found\n",
    "    \n",
    "    # Append the tuple to the list\n",
    "    temp.append((date, daily_price))\n",
    "\n",
    "temp"
   ]
  },
  {
   "cell_type": "markdown",
   "metadata": {},
   "source": [
    "Note: You can customize the code inside the loop according to your needs to extract the desired information from the website you scrap. Make sure to check and adjust the code well to suit the HTML structure and information you want to retrieve."
   ]
  },
  {
   "cell_type": "markdown",
   "metadata": {},
   "source": [
    "## Creating data frame & Data wrangling"
   ]
  },
  {
   "cell_type": "markdown",
   "metadata": {},
   "source": [
    "Once we have extracted the data, we can put it into a dataframe."
   ]
  },
  {
   "cell_type": "code",
   "execution_count": 82,
   "metadata": {
    "ExecuteTime": {
     "end_time": "2020-01-13T05:12:41.517372Z",
     "start_time": "2020-01-13T05:12:29.130015Z"
    }
   },
   "outputs": [
    {
     "data": {
      "text/html": [
       "<div>\n",
       "<style scoped>\n",
       "    .dataframe tbody tr th:only-of-type {\n",
       "        vertical-align: middle;\n",
       "    }\n",
       "\n",
       "    .dataframe tbody tr th {\n",
       "        vertical-align: top;\n",
       "    }\n",
       "\n",
       "    .dataframe thead th {\n",
       "        text-align: right;\n",
       "    }\n",
       "</style>\n",
       "<table border=\"1\" class=\"dataframe\">\n",
       "  <thead>\n",
       "    <tr style=\"text-align: right;\">\n",
       "      <th></th>\n",
       "      <th>date</th>\n",
       "      <th>daily_price</th>\n",
       "    </tr>\n",
       "  </thead>\n",
       "  <tbody>\n",
       "    <tr>\n",
       "      <th>0</th>\n",
       "      <td>2024-8-30</td>\n",
       "      <td>1 USD = 15,532 IDR</td>\n",
       "    </tr>\n",
       "    <tr>\n",
       "      <th>1</th>\n",
       "      <td>2024-8-29</td>\n",
       "      <td>1 USD = 15,466 IDR</td>\n",
       "    </tr>\n",
       "    <tr>\n",
       "      <th>2</th>\n",
       "      <td>2024-8-28</td>\n",
       "      <td>1 USD = 15,446 IDR</td>\n",
       "    </tr>\n",
       "    <tr>\n",
       "      <th>3</th>\n",
       "      <td>2024-8-27</td>\n",
       "      <td>1 USD = 15,481 IDR</td>\n",
       "    </tr>\n",
       "    <tr>\n",
       "      <th>4</th>\n",
       "      <td>2024-8-26</td>\n",
       "      <td>1 USD = 15,483 IDR</td>\n",
       "    </tr>\n",
       "  </tbody>\n",
       "</table>\n",
       "</div>"
      ],
      "text/plain": [
       "        date         daily_price\n",
       "0  2024-8-30  1 USD = 15,532 IDR\n",
       "1  2024-8-29  1 USD = 15,466 IDR\n",
       "2  2024-8-28  1 USD = 15,446 IDR\n",
       "3  2024-8-27  1 USD = 15,481 IDR\n",
       "4  2024-8-26  1 USD = 15,483 IDR"
      ]
     },
     "execution_count": 82,
     "metadata": {},
     "output_type": "execute_result"
    }
   ],
   "source": [
    "import pandas as pd\n",
    "\n",
    "df = pd.DataFrame(temp, columns= ('date', 'daily_price'))\n",
    "df.head()"
   ]
  },
  {
   "cell_type": "markdown",
   "metadata": {},
   "source": [
    "### Data Cleansing\n",
    "\n",
    "First we are going to check our data types"
   ]
  },
  {
   "cell_type": "code",
   "execution_count": 83,
   "metadata": {
    "ExecuteTime": {
     "end_time": "2020-01-13T05:12:59.165559Z",
     "start_time": "2020-01-13T05:12:58.910012Z"
    }
   },
   "outputs": [
    {
     "data": {
      "text/plain": [
       "date           object\n",
       "daily_price    object\n",
       "dtype: object"
      ]
     },
     "execution_count": 83,
     "metadata": {},
     "output_type": "execute_result"
    }
   ],
   "source": [
    "\n",
    "df.dtypes"
   ]
  },
  {
   "cell_type": "markdown",
   "metadata": {},
   "source": [
    "Next we are going to change the data types of our columns into their corresponding data types."
   ]
  },
  {
   "cell_type": "code",
   "execution_count": 84,
   "metadata": {},
   "outputs": [
    {
     "data": {
      "text/html": [
       "<div>\n",
       "<style scoped>\n",
       "    .dataframe tbody tr th:only-of-type {\n",
       "        vertical-align: middle;\n",
       "    }\n",
       "\n",
       "    .dataframe tbody tr th {\n",
       "        vertical-align: top;\n",
       "    }\n",
       "\n",
       "    .dataframe thead th {\n",
       "        text-align: right;\n",
       "    }\n",
       "</style>\n",
       "<table border=\"1\" class=\"dataframe\">\n",
       "  <thead>\n",
       "    <tr style=\"text-align: right;\">\n",
       "      <th></th>\n",
       "      <th>date</th>\n",
       "      <th>daily_price</th>\n",
       "    </tr>\n",
       "  </thead>\n",
       "  <tbody>\n",
       "    <tr>\n",
       "      <th>0</th>\n",
       "      <td>2024-08-30</td>\n",
       "      <td>15532.0</td>\n",
       "    </tr>\n",
       "    <tr>\n",
       "      <th>1</th>\n",
       "      <td>2024-08-29</td>\n",
       "      <td>15466.0</td>\n",
       "    </tr>\n",
       "    <tr>\n",
       "      <th>2</th>\n",
       "      <td>2024-08-28</td>\n",
       "      <td>15446.0</td>\n",
       "    </tr>\n",
       "    <tr>\n",
       "      <th>3</th>\n",
       "      <td>2024-08-27</td>\n",
       "      <td>15481.0</td>\n",
       "    </tr>\n",
       "    <tr>\n",
       "      <th>4</th>\n",
       "      <td>2024-08-26</td>\n",
       "      <td>15483.0</td>\n",
       "    </tr>\n",
       "  </tbody>\n",
       "</table>\n",
       "</div>"
      ],
      "text/plain": [
       "        date  daily_price\n",
       "0 2024-08-30      15532.0\n",
       "1 2024-08-29      15466.0\n",
       "2 2024-08-28      15446.0\n",
       "3 2024-08-27      15481.0\n",
       "4 2024-08-26      15483.0"
      ]
     },
     "execution_count": 84,
     "metadata": {},
     "output_type": "execute_result"
    }
   ],
   "source": [
    "# Convert the 'date' column to datetime format\n",
    "df['date'] = pd.to_datetime(df['date'], format='%Y-%m-%d', errors='coerce')\n",
    "\n",
    "# Clean and convert the 'daily_price' column to numeric format\n",
    "df['daily_price'] = df['daily_price'].str.replace('1 USD = ', '').str.replace(',', '').str.replace(' IDR', '')\n",
    "df['daily_price'] = pd.to_numeric(df['daily_price'], errors='coerce')\n",
    "\n",
    "# Display the updated DataFrame\n",
    "df.head()"
   ]
  },
  {
   "cell_type": "markdown",
   "metadata": {},
   "source": [
    "### Data Visualization\n",
    "\n",
    "to create a good looking plot, we need to first aggregate the data"
   ]
  },
  {
   "cell_type": "code",
   "execution_count": 93,
   "metadata": {},
   "outputs": [],
   "source": [
    "viz = df.pivot_table(\n",
    "    index='date',         \n",
    "    values='daily_price',  \n",
    "    aggfunc='sum'  \n",
    ")"
   ]
  },
  {
   "cell_type": "markdown",
   "metadata": {},
   "source": [
    "### Implementing your webscrapping to the flask dashboard\n",
    "\n",
    "- Copy paste all of your web scrapping process to the desired position on the `app.py`\n",
    "- Change the title of the dashboard in `index.html`"
   ]
  },
  {
   "cell_type": "markdown",
   "metadata": {},
   "source": [
    "## Finishing This Notebook with Your Analysis and Conclusion\n",
    "\n",
    "First you can do start with making the data visualization."
   ]
  },
  {
   "cell_type": "code",
   "execution_count": 95,
   "metadata": {
    "ExecuteTime": {
     "end_time": "2020-01-13T05:20:56.208237Z",
     "start_time": "2020-01-13T05:20:56.076043Z"
    }
   },
   "outputs": [
    {
     "data": {
      "text/plain": [
       "<Axes: xlabel='date'>"
      ]
     },
     "execution_count": 95,
     "metadata": {},
     "output_type": "execute_result"
    },
    {
     "data": {
      "image/png": "[encoded data removed]",
      "text/plain": [
       "<Figure size 640x480 with 1 Axes>"
      ]
     },
     "metadata": {},
     "output_type": "display_data"
    }
   ],
   "source": [
    "viz.plot.line()"
   ]
  },
  {
   "cell_type": "markdown",
   "metadata": {},
   "source": [
    "## Analysis\n",
    "\n",
    "-Based on the graphic, the price of 1 USD is steadily increasing from 2024-03 until 2024-08 where the price suddenly drastically dropped from around 1 USD = 16200 IDR to 1 USD = 15500 by the end of August 2024 \n",
    "\n",
    "## Conclusion:\n",
    "The analysis suggests a period of steady depreciation of the Indonesian Rupiah against the US Dollar, followed by a sudden and significant appreciation. This could indicate underlying economic or political shifts that warrant further investigation to understand the causes and broader implications.\n"
   ]
  },
  {
   "cell_type": "markdown",
   "metadata": {},
   "source": [
    "### Extra Challange\n",
    "\n",
    "This will be not included to the scoring. \n",
    "\n",
    "- You can create additional visualization/analysis from the data.\n",
    "- Implement it to the dashboard with at `app.py` dan `index.html`."
   ]
  },
  {
   "cell_type": "markdown",
   "metadata": {},
   "source": []
  }
 ],
 "metadata": {
  "kernelspec": {
   "display_name": "base",
   "language": "python",
   "name": "python3"
  },
  "language_info": {
   "codemirror_mode": {
    "name": "ipython",
    "version": 3
   },
   "file_extension": ".py",
   "mimetype": "text/x-python",
   "name": "python",
   "nbconvert_exporter": "python",
   "pygments_lexer": "ipython3",
   "version": "3.12.4"
  }
 },
 "nbformat": 4,
 "nbformat_minor": 2
}
